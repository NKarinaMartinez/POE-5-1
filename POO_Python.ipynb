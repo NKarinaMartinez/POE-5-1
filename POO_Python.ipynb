{
  "nbformat": 4,
  "nbformat_minor": 0,
  "metadata": {
    "colab": {
      "name": "POO Python",
      "provenance": [],
      "authorship_tag": "ABX9TyNiyOCXW4syXaecJuG0p1IE",
      "include_colab_link": true
    },
    "kernelspec": {
      "name": "python3",
      "display_name": "Python 3"
    },
    "language_info": {
      "name": "python"
    }
  },
  "cells": [
    {
      "cell_type": "markdown",
      "metadata": {
        "id": "view-in-github",
        "colab_type": "text"
      },
      "source": [
        "<a href=\"https://colab.research.google.com/github/NKarinaMartinez/POE-5-1/blob/main/POO_Python.ipynb\" target=\"_parent\"><img src=\"https://colab.research.google.com/assets/colab-badge.svg\" alt=\"Open In Colab\"/></a>"
      ]
    },
    {
      "cell_type": "code",
      "execution_count": 3,
      "metadata": {
        "id": "8FMLiAj6NpTC"
      },
      "outputs": [],
      "source": [
        "class persona(): # Clase persona\n",
        "    def __init__(self, nombre, edad): # Se inicializa con nombre y edad\n",
        "        self.nombre = nombre\n",
        "        self.edad = edad"
      ]
    },
    {
      "cell_type": "code",
      "source": [
        "Nicole = persona(\"Nicole Martinez\", 21)"
      ],
      "metadata": {
        "id": "IC2h5pK9PRHL"
      },
      "execution_count": 4,
      "outputs": []
    },
    {
      "cell_type": "code",
      "source": [
        "# Ejercicio 1. Imprimir Edad.\n",
        "Nicole.edad"
      ],
      "metadata": {
        "colab": {
          "base_uri": "https://localhost:8080/"
        },
        "id": "ihuDpiQqPery",
        "outputId": "78d8f8a4-8ce9-4864-e8d3-d365b6a6cfda"
      },
      "execution_count": 5,
      "outputs": [
        {
          "output_type": "execute_result",
          "data": {
            "text/plain": [
              "21"
            ]
          },
          "metadata": {},
          "execution_count": 5
        }
      ]
    }
  ]
}