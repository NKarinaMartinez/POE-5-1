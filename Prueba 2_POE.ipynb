{
  "nbformat": 4,
  "nbformat_minor": 0,
  "metadata": {
    "colab": {
      "name": "Pruebas_de_unidad_POE.ipynb",
      "provenance": [],
      "authorship_tag": "ABX9TyMJiR9hEI1cLkv+QUsGdAi1",
      "include_colab_link": true
    },
    "kernelspec": {
      "name": "python3",
      "display_name": "Python 3"
    },
    "language_info": {
      "name": "python"
    }
  },
  "cells": [
    {
      "cell_type": "markdown",
      "metadata": {
        "id": "view-in-github",
        "colab_type": "text"
      },
      "source": [
        "<a href=\"https://colab.research.google.com/github/NKarinaMartinez/POE-5-1/blob/main/Prueba%202_POE.ipynb\" target=\"_parent\"><img src=\"https://colab.research.google.com/assets/colab-badge.svg\" alt=\"Open In Colab\"/></a>"
      ]
    },
    {
      "cell_type": "code",
      "execution_count": 11,
      "metadata": {
        "id": "BEv0-60ODkv3"
      },
      "outputs": [],
      "source": [
        "import unittest"
      ]
    },
    {
      "cell_type": "code",
      "source": [
        "# Calculadora\n",
        "class Calculator:\n",
        "    def __init__(self):\n",
        "        pass\n",
        "\n",
        "    def add(self, a, b):\n",
        "        return a + b\n",
        "\n",
        "    def sub(self, a, b):\n",
        "        return a - b\n",
        "  \n",
        "    def mul(self, a, b):\n",
        "        return a * b\n",
        "\n",
        "    def divent(self, a, b):\n",
        "        if b != 0:\n",
        "            return a / b"
      ],
      "metadata": {
        "id": "3ZtKjasQDrh5"
      },
      "execution_count": 12,
      "outputs": []
    },
    {
      "cell_type": "code",
      "source": [
        "##Creacion prueba de unidad \n",
        "class TestCalculator(unittest.TestCase):\n",
        "  \n",
        "    def test_add(self):\n",
        "        '''Test case function for addition'''\n",
        "        self.calc = Calculator()\n",
        "        result = self.calc.add(4, 7)\n",
        "        expected = 11\n",
        "        self.assertEqual(result, expected)\n",
        "\n",
        "    def test_sub(self):\n",
        "        '''Test case function for subtraction'''\n",
        "        self.calc = Calculator()\n",
        "        result = self.calc.sub(10, 5)\n",
        "        expected = 5\n",
        "        self.assertEqual(result, expected)\n",
        "\n",
        "   \n",
        "    def test_mul(self):\n",
        "        '''Test case function for multiplication'''\n",
        "        self.calc = Calculator()\n",
        "        result = self.calc.mul(3, 7)\n",
        "        expected = 21\n",
        "        self.assertEqual(result, expected)\n",
        "\n",
        "    def test_divent(self):\n",
        "        '''Test case function for division ent'''\n",
        "        self.calc = Calculator()\n",
        "        result = self.calc.divent(8, 2)\n",
        "        expected = 4\n",
        "        self.assertEqual(result, expected)"
      ],
      "metadata": {
        "id": "wzn8FP5uDueE"
      },
      "execution_count": 17,
      "outputs": []
    },
    {
      "cell_type": "code",
      "source": [
        "unittest.main(argv=[''], verbosity=2, exit=False)"
      ],
      "metadata": {
        "colab": {
          "base_uri": "https://localhost:8080/"
        },
        "id": "BjAiFvdjD28U",
        "outputId": "a815a71c-8dc8-4bb2-88ad-2dc64f7c8b05"
      },
      "execution_count": 18,
      "outputs": [
        {
          "output_type": "stream",
          "name": "stderr",
          "text": [
            "test_add (__main__.TestCalculator)\n",
            "Test case function for addition ... ok\n",
            "test_divent (__main__.TestCalculator)\n",
            "Test case function for division ent ... ok\n",
            "test_mul (__main__.TestCalculator)\n",
            "Test case function for multiplication ... ok\n",
            "test_sub (__main__.TestCalculator)\n",
            "Test case function for subtraction ... ok\n",
            "\n",
            "----------------------------------------------------------------------\n",
            "Ran 4 tests in 0.012s\n",
            "\n",
            "OK\n"
          ]
        },
        {
          "output_type": "execute_result",
          "data": {
            "text/plain": [
              "<unittest.main.TestProgram at 0x7efd018edb10>"
            ]
          },
          "metadata": {},
          "execution_count": 18
        }
      ]
    }
  ]
}