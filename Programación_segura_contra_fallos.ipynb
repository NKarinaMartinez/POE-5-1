{
  "nbformat": 4,
  "nbformat_minor": 0,
  "metadata": {
    "colab": {
      "name": "Programación segura contra fallos",
      "provenance": [],
      "authorship_tag": "ABX9TyMSOd+g/dbp2zNt8Xa4AbCe",
      "include_colab_link": true
    },
    "kernelspec": {
      "name": "python3",
      "display_name": "Python 3"
    },
    "language_info": {
      "name": "python"
    }
  },
  "cells": [
    {
      "cell_type": "markdown",
      "metadata": {
        "id": "view-in-github",
        "colab_type": "text"
      },
      "source": [
        "<a href=\"https://colab.research.google.com/github/NKarinaMartinez/POE-5-1/blob/main/Programaci%C3%B3n_segura_contra_fallos.ipynb\" target=\"_parent\"><img src=\"https://colab.research.google.com/assets/colab-badge.svg\" alt=\"Open In Colab\"/></a>"
      ]
    },
    {
      "cell_type": "code",
      "execution_count": 1,
      "metadata": {
        "id": "T3k1XeZWFItI"
      },
      "outputs": [],
      "source": [
        "def dividir(num,div):\n",
        "  return num/div"
      ]
    },
    {
      "cell_type": "code",
      "source": [
        "dividir(0,2)"
      ],
      "metadata": {
        "id": "cFFAJ4qHGi_8"
      },
      "execution_count": null,
      "outputs": []
    },
    {
      "cell_type": "code",
      "source": [
        "#Ejercicio\n",
        "#manejar ZeroDivisionError en Python\n",
        "\n",
        "#Podemos tratar esta división entre cero como una excepción, haciendo lo siguiente:\n",
        "\n",
        "#Desde el bloque try llama a la función dividir().\n",
        "#En el bloque except tendremos una excepción en caso de que div sea igual a cero.\n",
        "#En este ejemplo se hace una excepción a ZeroDivisionError (el tipo de error) el cual se especifica en except\n",
        "#Cuando se detecte el error ZeroDivisionError se ejecutara el bloque except donde pondremos un mensaje informando que se trató de dividir entre cero.\n",
        "Código en Python"
      ],
      "metadata": {
        "id": "Y8W9Jvk6FgS9"
      },
      "execution_count": null,
      "outputs": []
    },
    {
      "cell_type": "code",
      "source": [
        "try:\n",
        "    #Funcion\n",
        "    #Imprimir resultado\n",
        "    res = dividir(2,0)\n",
        "    print(res)\n",
        "except ZeroDivisionError:\n",
        "    # imprimir mensaje\n",
        "    print(\"division por cero\")"
      ],
      "metadata": {
        "colab": {
          "base_uri": "https://localhost:8080/"
        },
        "id": "8sEQ6ENmFnVb",
        "outputId": "34fea489-6016-407a-ea10-393828c29601"
      },
      "execution_count": 3,
      "outputs": [
        {
          "output_type": "stream",
          "name": "stdout",
          "text": [
            "division por cero\n"
          ]
        }
      ]
    }
  ]
}