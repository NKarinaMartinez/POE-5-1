{
  "nbformat": 4,
  "nbformat_minor": 0,
  "metadata": {
    "colab": {
      "name": "IMC",
      "provenance": [],
      "authorship_tag": "ABX9TyNWEBMSHfoI9/lJV8iIqaHB",
      "include_colab_link": true
    },
    "kernelspec": {
      "name": "python3",
      "display_name": "Python 3"
    },
    "language_info": {
      "name": "python"
    }
  },
  "cells": [
    {
      "cell_type": "markdown",
      "metadata": {
        "id": "view-in-github",
        "colab_type": "text"
      },
      "source": [
        "<a href=\"https://colab.research.google.com/github/NKarinaMartinez/POE-5-1/blob/main/IMC.ipynb\" target=\"_parent\"><img src=\"https://colab.research.google.com/assets/colab-badge.svg\" alt=\"Open In Colab\"/></a>"
      ]
    },
    {
      "cell_type": "code",
      "execution_count": 25,
      "metadata": {
        "colab": {
          "base_uri": "https://localhost:8080/"
        },
        "id": "zu_Fp4dgc1s_",
        "outputId": "b48bce0e-19ab-4d5b-da50-f729d73b684e"
      },
      "outputs": [
        {
          "output_type": "stream",
          "name": "stdout",
          "text": [
            "18.749999999999996\n"
          ]
        }
      ],
      "source": [
        "#@title Cálculo del IMC { run: \"auto\", vertical-output: true }\n",
        "Estatura =  1.60#@param {type:\"number\"}\n",
        "Peso =  48#@param {type:\"number\"}\n",
        "print(Peso/pow(Estatura,2))\n"
      ]
    }
  ]
}